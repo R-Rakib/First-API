{
 "cells": [
  {
   "cell_type": "code",
   "execution_count": 1,
   "id": "a9f8645a",
   "metadata": {},
   "outputs": [
    {
     "name": "stdout",
     "output_type": "stream",
     "text": [
      "name='Rakib' age=23 cgpa=3.65\n",
      "Rakib\n"
     ]
    }
   ],
   "source": [
    "#Basic Pydantic Model\n",
    "\n",
    "from pydantic import BaseModel\n",
    "\n",
    "class student(BaseModel):\n",
    "    name: str\n",
    "    age: int\n",
    "    cgpa: float\n",
    "\n",
    "\n",
    "student= student(name=\"Rakib\",age=23,cgpa=3.65)\n",
    "\n",
    "\n",
    "print(student)\n",
    "print(student.name)"
   ]
  },
  {
   "cell_type": "code",
   "execution_count": 5,
   "id": "695f8469",
   "metadata": {},
   "outputs": [
    {
     "name": "stdout",
     "output_type": "stream",
     "text": [
      "Laptop\n"
     ]
    }
   ],
   "source": [
    "#Validation Example\n",
    "\n",
    "from pydantic import BaseModel\n",
    "class product(BaseModel):\n",
    "    id:int\n",
    "    name:str\n",
    "    price:float\n",
    "\n",
    "product= product(id=1,name=\"Laptop\",price=500)\n",
    "\n",
    "print(product.name)"
   ]
  },
  {
   "cell_type": "code",
   "execution_count": null,
   "id": "ea8fdcdd",
   "metadata": {},
   "outputs": [
    {
     "name": "stdout",
     "output_type": "stream",
     "text": [
      "['Python', 'Java', 'c']\n"
     ]
    }
   ],
   "source": [
    "from pydantic import BaseModel\n",
    "from typing import List\n",
    "\n",
    "class student(BaseModel):\n",
    "    name: str\n",
    "    age:int\n",
    "    cgpa:float\n",
    "    courses:List[str]\n",
    "\n",
    "student1=student(\n",
    "    name=\"Rakib\",\n",
    "    age=23,\n",
    "    cgpa=3.65,\n",
    "    courses=[\"Python\",\"Java\",\"c\"]\n",
    ")\n",
    "\n",
    "print(student1.courses)"
   ]
  },
  {
   "cell_type": "code",
   "execution_count": 9,
   "id": "e3f2f4e5",
   "metadata": {},
   "outputs": [
    {
     "name": "stdout",
     "output_type": "stream",
     "text": [
      "['Python', 'Java', 'c']\n"
     ]
    }
   ],
   "source": [
    "#Optional Fields Example\n",
    "\n",
    "from pydantic import BaseModel\n",
    "from typing import List,Optional\n",
    "\n",
    "class student(BaseModel):\n",
    "    name: str\n",
    "    age:Optional[int]=None\n",
    "    cgpa:float\n",
    "    courses:List[str]\n",
    "\n",
    "student1=student(\n",
    "    name=\"Rakib\",\n",
    "   \n",
    "    cgpa=3.65,\n",
    "    courses=[\"Python\",\"Java\",\"c\"]\n",
    ")\n",
    "\n",
    "print(student1.courses)"
   ]
  }
 ],
 "metadata": {
  "kernelspec": {
   "display_name": "fenv",
   "language": "python",
   "name": "python3"
  },
  "language_info": {
   "codemirror_mode": {
    "name": "ipython",
    "version": 3
   },
   "file_extension": ".py",
   "mimetype": "text/x-python",
   "name": "python",
   "nbconvert_exporter": "python",
   "pygments_lexer": "ipython3",
   "version": "3.13.5"
  }
 },
 "nbformat": 4,
 "nbformat_minor": 5
}
